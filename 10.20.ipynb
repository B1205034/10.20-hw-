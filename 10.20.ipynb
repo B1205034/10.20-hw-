{
  "nbformat": 4,
  "nbformat_minor": 0,
  "metadata": {
    "colab": {
      "provenance": []
    },
    "kernelspec": {
      "name": "python3",
      "display_name": "Python 3"
    },
    "language_info": {
      "name": "python"
    }
  },
  "cells": [
    {
      "cell_type": "code",
      "source": [
        "num_str = input(\"請輸入一個數字：\")\n",
        "num=int(num_str)\n",
        "for i in range(1,num+1):\n",
        "  for j in range(1,num+1):\n",
        "    product=i*j\n",
        "    print(f\"{i}*{j}={product}\")"
      ],
      "metadata": {
        "colab": {
          "base_uri": "https://localhost:8080/"
        },
        "id": "cEnTBFD_AvK7",
        "outputId": "f339542f-8c04-4e77-a0d2-ad2eb48b9766"
      },
      "execution_count": 5,
      "outputs": [
        {
          "output_type": "stream",
          "name": "stdout",
          "text": [
            "請輸入一個數字：3\n",
            "1*1=1\n",
            "1*2=2\n",
            "1*3=3\n",
            "2*1=2\n",
            "2*2=4\n",
            "2*3=6\n",
            "3*1=3\n",
            "3*2=6\n",
            "3*3=9\n"
          ]
        }
      ]
    },
    {
      "cell_type": "code",
      "source": [
        "import random\n",
        "target_number=random.randint(1,100)\n",
        "print('歡迎參加猜數字遊戲！')\n",
        "\n",
        "while True:\n",
        "  user_input=input(\"請猜一個數字\")\n",
        "  num=int(user_input)\n",
        "  if num < target_number:\n",
        "    print(\"再大一點\")\n",
        "  elif num > target_number:\n",
        "    print(\"再小一點\")\n",
        "  else:\n",
        "    print(\"恭喜答對了，答案就是\",num)\n",
        "    break\n",
        "print(\"遊戲結束。\")\n"
      ],
      "metadata": {
        "colab": {
          "base_uri": "https://localhost:8080/"
        },
        "id": "trIspGALD7cb",
        "outputId": "a2d14d92-5f46-4f0e-feb7-301b30520480"
      },
      "execution_count": 9,
      "outputs": [
        {
          "output_type": "stream",
          "name": "stdout",
          "text": [
            "歡迎參加猜數字遊戲！\n",
            "請猜一個數字50\n",
            "再小一點\n",
            "請猜一個數字25\n",
            "再小一點\n",
            "請猜一個數字12\n",
            "再大一點\n",
            "請猜一個數字18\n",
            "恭喜答對了，答案就是 18\n",
            "遊戲結束。\n"
          ]
        }
      ]
    }
  ]
}